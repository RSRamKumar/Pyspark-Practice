{
 "cells": [
  {
   "cell_type": "code",
   "execution_count": 10,
   "metadata": {},
   "outputs": [],
   "source": [
    "import pandas as pd\n",
    "import pyspark \n",
    "from pyspark.sql import SparkSession\n",
    "from pyspark.sql.functions import sum,avg,max, col \n",
    "\n"
   ]
  },
  {
   "cell_type": "code",
   "execution_count": 11,
   "metadata": {},
   "outputs": [],
   "source": [
    "spark = SparkSession.builder.appName(\"spark-practice\").getOrCreate()"
   ]
  },
  {
   "cell_type": "code",
   "execution_count": 12,
   "metadata": {},
   "outputs": [
    {
     "name": "stdout",
     "output_type": "stream",
     "text": [
      "+----+---+-------------+-------------+----------+------------+------------------+--------------+\n",
      "|Rank| ID|      Country|    Continent|Population|     IMF_GDP|            UN_GDP|GDP_per_capita|\n",
      "+----+---+-------------+-------------+----------+------------+------------------+--------------+\n",
      "|   1|840|United States|North America| 339996.56| 2.669515E13|      1.8624475E13|      78515.94|\n",
      "|   2|156|        China|         Asia|1425671.35|2.1865482E13|1.1218281029298E13|      15336.97|\n",
      "|   3|392|        Japan|         Asia| 123294.51| 5.291351E12| 4.936211827875E12|      42916.35|\n",
      "|   4|276|      Germany|       Europe|  83294.63| 4.564778E12| 3.477796274497E12|      54802.79|\n",
      "|   5|356|        India|         Asia|1428627.66|  3.89367E12| 2.259642382872E12|       2725.46|\n",
      "+----+---+-------------+-------------+----------+------------+------------------+--------------+\n",
      "only showing top 5 rows\n",
      "\n"
     ]
    }
   ],
   "source": [
    "df = spark.read.csv(\"countries_dataset.csv\", header=True, inferSchema=True)\n",
    "df.show(5)"
   ]
  },
  {
   "cell_type": "code",
   "execution_count": 13,
   "metadata": {},
   "outputs": [
    {
     "data": {
      "text/plain": [
       "[('Rank', 'int'),\n",
       " ('ID', 'int'),\n",
       " ('Country', 'string'),\n",
       " ('Continent', 'string'),\n",
       " ('Population', 'double'),\n",
       " ('IMF_GDP', 'double'),\n",
       " ('UN_GDP', 'double'),\n",
       " ('GDP_per_capita', 'double')]"
      ]
     },
     "execution_count": 13,
     "metadata": {},
     "output_type": "execute_result"
    }
   ],
   "source": [
    "df.dtypes"
   ]
  },
  {
   "cell_type": "code",
   "execution_count": 14,
   "metadata": {},
   "outputs": [
    {
     "data": {
      "text/plain": [
       "['Rank',\n",
       " 'ID',\n",
       " 'Country',\n",
       " 'Continent',\n",
       " 'Population',\n",
       " 'IMF_GDP',\n",
       " 'UN_GDP',\n",
       " 'GDP_per_capita']"
      ]
     },
     "execution_count": 14,
     "metadata": {},
     "output_type": "execute_result"
    }
   ],
   "source": [
    "df.columns"
   ]
  },
  {
   "cell_type": "code",
   "execution_count": 15,
   "metadata": {},
   "outputs": [
    {
     "name": "stdout",
     "output_type": "stream",
     "text": [
      "+-------------+-----+\n",
      "|    Continent|count|\n",
      "+-------------+-----+\n",
      "|       Europe|   50|\n",
      "|       Africa|   54|\n",
      "|North America|   34|\n",
      "|South America|   12|\n",
      "|      Oceania|   17|\n",
      "|         Asia|   45|\n",
      "+-------------+-----+\n",
      "\n"
     ]
    }
   ],
   "source": [
    "df.groupBy('Continent').count().show()"
   ]
  },
  {
   "cell_type": "code",
   "execution_count": 16,
   "metadata": {},
   "outputs": [
    {
     "name": "stdout",
     "output_type": "stream",
     "text": [
      "+-------------+--------------------+\n",
      "|    Continent|        avg(IMF_GDP)|\n",
      "+-------------+--------------------+\n",
      "|       Europe|        5.2915196E11|\n",
      "|       Africa|5.739488888888888...|\n",
      "|North America|9.144699117647059E11|\n",
      "|South America|        3.2317975E11|\n",
      "|      Oceania|1.264089411764705...|\n",
      "|         Asia|9.742229333333334E11|\n",
      "+-------------+--------------------+\n",
      "\n"
     ]
    }
   ],
   "source": [
    "df.groupBy(\"Continent\").mean(\"IMF_GDP\").show()"
   ]
  },
  {
   "cell_type": "code",
   "execution_count": 17,
   "metadata": {},
   "outputs": [
    {
     "name": "stdout",
     "output_type": "stream",
     "text": [
      "+-------------+---------------------+------------+------------+\n",
      "|Continent    |avg_imf_gdp          |sum_imf_gdp |max_imf_gdp |\n",
      "+-------------+---------------------+------------+------------+\n",
      "|Europe       |5.2915196E11         |2.6457598E13|4.564778E12 |\n",
      "|Africa       |5.7394888888888885E10|3.099324E12 |5.80121E11  |\n",
      "|North America|9.144699117647059E11 |3.1091977E13|2.669515E13 |\n",
      "|South America|3.2317975E11         |3.878157E12 |1.980483E12 |\n",
      "|Oceania      |1.2640894117647058E11|2.148952E12 |1.828394E12 |\n",
      "|Asia         |9.742229333333334E11 |4.3840032E13|2.1865482E13|\n",
      "+-------------+---------------------+------------+------------+\n",
      "\n"
     ]
    }
   ],
   "source": [
    "df.groupBy(\"Continent\").agg( \n",
    "         avg(\"IMF_GDP\").alias(\"avg_imf_gdp\"),  \n",
    "         sum(\"IMF_GDP\").alias(\"sum_imf_gdp\"),  \n",
    "         max(\"IMF_GDP\").alias(\"max_imf_gdp\")  \n",
    "     ).show(truncate=False)"
   ]
  },
  {
   "cell_type": "code",
   "execution_count": 25,
   "metadata": {},
   "outputs": [
    {
     "name": "stdout",
     "output_type": "stream",
     "text": [
      "+-------------+--------------------+------------+------------+\n",
      "|    Continent|         avg_imf_gdp| sum_imf_gdp| max_imf_gdp|\n",
      "+-------------+--------------------+------------+------------+\n",
      "|       Africa|5.739488888888888...| 3.099324E12|  5.80121E11|\n",
      "|North America|9.144699117647059E11|3.1091977E13| 2.669515E13|\n",
      "|South America|        3.2317975E11| 3.878157E12| 1.980483E12|\n",
      "|      Oceania|1.264089411764705...| 2.148952E12| 1.828394E12|\n",
      "|         Asia|9.742229333333334E11|4.3840032E13|2.1865482E13|\n",
      "+-------------+--------------------+------------+------------+\n",
      "\n"
     ]
    }
   ],
   "source": [
    "df.groupBy(\"Continent\").agg( \n",
    "         avg(\"IMF_GDP\").alias(\"avg_imf_gdp\"),  \n",
    "         sum(\"IMF_GDP\").alias(\"sum_imf_gdp\"),  \n",
    "         max(\"IMF_GDP\").alias(\"max_imf_gdp\")  \n",
    "     ).where(~(col('Continent') =='Europe')).show()\n",
    "\n"
   ]
  }
 ],
 "metadata": {
  "kernelspec": {
   "display_name": "Python 3 (ipykernel)",
   "language": "python",
   "name": "python3"
  },
  "language_info": {
   "codemirror_mode": {
    "name": "ipython",
    "version": 3
   },
   "file_extension": ".py",
   "mimetype": "text/x-python",
   "name": "python",
   "nbconvert_exporter": "python",
   "pygments_lexer": "ipython3",
   "version": "3.10.4"
  },
  "orig_nbformat": 4
 },
 "nbformat": 4,
 "nbformat_minor": 2
}
